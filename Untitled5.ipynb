{
 "cells": [
  {
   "cell_type": "code",
   "execution_count": 5,
   "id": "52b4e648",
   "metadata": {},
   "outputs": [
    {
     "name": "stdout",
     "output_type": "stream",
     "text": [
      "Requirement already satisfied: scapy in /Library/Frameworks/Python.framework/Versions/3.7/lib/python3.7/site-packages (2.4.5)\n",
      "\u001b[33mYou are using pip version 10.0.1, however version 22.1.2 is available.\n",
      "You should consider upgrading via the 'pip install --upgrade pip' command.\u001b[0m\n",
      "Note: you may need to restart the kernel to use updated packages.\n"
     ]
    }
   ],
   "source": [
    "pip install scapy"
   ]
  },
  {
   "cell_type": "code",
   "execution_count": 8,
   "id": "01366ead",
   "metadata": {},
   "outputs": [
    {
     "name": "stderr",
     "output_type": "stream",
     "text": [
      "WARNING: No IPv4 address found on en5 !\n",
      "WARNING: No IPv4 address found on en0 !\n",
      "WARNING: more No IPv4 address found on en3 !\n"
     ]
    }
   ],
   "source": [
    "from scapy.all import *"
   ]
  },
  {
   "cell_type": "code",
   "execution_count": 14,
   "id": "4f3435cb",
   "metadata": {},
   "outputs": [],
   "source": [
    "import hashlib\n",
    "import math"
   ]
  },
  {
   "cell_type": "code",
   "execution_count": 15,
   "id": "289b4d04",
   "metadata": {},
   "outputs": [],
   "source": [
    "R = '10.0.0.212'"
   ]
  },
  {
   "cell_type": "code",
   "execution_count": 16,
   "id": "eb0d65fd",
   "metadata": {},
   "outputs": [],
   "source": [
    "hashed_R = hashlib.sha256(R.encode()).hexdigest()"
   ]
  },
  {
   "cell_type": "code",
   "execution_count": 18,
   "id": "12f00273",
   "metadata": {},
   "outputs": [],
   "source": [
    "hashed_and_truncated_R = bin(int(hashed_R, 16) & (2**32 - 1))[2:]"
   ]
  },
  {
   "cell_type": "code",
   "execution_count": 19,
   "id": "a65e734c",
   "metadata": {},
   "outputs": [],
   "source": [
    "if len(hashed_and_truncated_R) < 32:\n",
    "    bit = '0'\n",
    "    for i in range(32 - len(hashed_and_truncated_R)):\n",
    "        hashed_and_truncated_R = bit + hashed_and_truncated_R"
   ]
  },
  {
   "cell_type": "code",
   "execution_count": 20,
   "id": "361e74e7",
   "metadata": {},
   "outputs": [
    {
     "data": {
      "text/plain": [
       "32"
      ]
     },
     "execution_count": 20,
     "metadata": {},
     "output_type": "execute_result"
    }
   ],
   "source": [
    "len(hashed_and_truncated_R)"
   ]
  },
  {
   "cell_type": "code",
   "execution_count": 21,
   "id": "c2a8bfb4",
   "metadata": {},
   "outputs": [],
   "source": [
    "def listToString(s): \n",
    "    \n",
    "    # initialize an empty string\n",
    "    str1 = \"\" \n",
    "    \n",
    "    # traverse in the string  \n",
    "    for ele in s: \n",
    "        str1 += ele  \n",
    "    \n",
    "    # return string  \n",
    "    return str1 "
   ]
  },
  {
   "cell_type": "code",
   "execution_count": 22,
   "id": "bf3eedce",
   "metadata": {},
   "outputs": [],
   "source": [
    "def BitInterLeave(R, hash_of_R):\n",
    "    #original address on odd bits\n",
    "    #hash on even bits\n",
    "    if len(hash_of_R) < 32: #if hashed value of R is less than 32 bits\n",
    "        bit = '0'               #then add redundant bits to complete 32 bits\n",
    "    for i in range(32 - len(hash_of_R)):\n",
    "        hash_of_R = bit + hash_of_R\n",
    "    \n",
    "    #length of R and hash_of_R is 32    \n",
    "    arr = []\n",
    "    for i in range(64):\n",
    "        if i % 2 == 0:\n",
    "            arr.append(hash_of_R[i % 32])\n",
    "        else:\n",
    "            arr.append(R[i % 32])\n",
    "    result = listToString(arr) #Convert list to string\n",
    "    return result"
   ]
  },
  {
   "cell_type": "code",
   "execution_count": 23,
   "id": "84de615f",
   "metadata": {},
   "outputs": [],
   "source": [
    "def fragments(bit_interleaved, k):\n",
    "    #k = 8\n",
    "    arr = []\n",
    "    for i in range(int(len(bit_interleaved)/k)):\n",
    "        arr.append(bit_interleaved[ i*k : (((i+1)*k)) ])\n",
    "    return arr"
   ]
  },
  {
   "cell_type": "code",
   "execution_count": 24,
   "id": "393dda70",
   "metadata": {},
   "outputs": [
    {
     "ename": "NameError",
     "evalue": "name 'bit_interleaved' is not defined",
     "output_type": "error",
     "traceback": [
      "\u001b[0;31m---------------------------------------------------------------------------\u001b[0m",
      "\u001b[0;31mNameError\u001b[0m                                 Traceback (most recent call last)",
      "\u001b[0;32m<ipython-input-24-43ead7bf0ec3>\u001b[0m in \u001b[0;36m<module>\u001b[0;34m\u001b[0m\n\u001b[0;32m----> 1\u001b[0;31m \u001b[0marr\u001b[0m \u001b[0;34m=\u001b[0m \u001b[0mfragments\u001b[0m\u001b[0;34m(\u001b[0m\u001b[0mbit_interleaved\u001b[0m\u001b[0;34m,\u001b[0m \u001b[0;36m8\u001b[0m\u001b[0;34m)\u001b[0m\u001b[0;34m\u001b[0m\u001b[0m\n\u001b[0m",
      "\u001b[0;31mNameError\u001b[0m: name 'bit_interleaved' is not defined"
     ]
    }
   ],
   "source": [
    "arr = fragments(bit_interleaved, 8)"
   ]
  },
  {
   "cell_type": "code",
   "execution_count": null,
   "id": "cb29fcff",
   "metadata": {},
   "outputs": [],
   "source": []
  }
 ],
 "metadata": {
  "kernelspec": {
   "display_name": "Python 3.7.0 64-bit",
   "language": "python",
   "name": "python37064bitc10bde82da1f478b81429086c5b46d8f"
  },
  "language_info": {
   "codemirror_mode": {
    "name": "ipython",
    "version": 3
   },
   "file_extension": ".py",
   "mimetype": "text/x-python",
   "name": "python",
   "nbconvert_exporter": "python",
   "pygments_lexer": "ipython3",
   "version": "3.7.0"
  }
 },
 "nbformat": 4,
 "nbformat_minor": 5
}
