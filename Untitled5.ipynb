{
 "cells": [
  {
   "cell_type": "code",
   "execution_count": 1,
   "id": "52b4e648",
   "metadata": {},
   "outputs": [
    {
     "name": "stdout",
     "output_type": "stream",
     "text": [
      "\u001b[33mWARNING: The directory '/Users/semihbalki/Library/Caches/pip' or its parent directory is not owned or is not writable by the current user. The cache has been disabled. Check the permissions and owner of that directory. If executing pip with sudo, you should use sudo's -H flag.\u001b[0m\n",
      "Requirement already satisfied: scapy in ./opt/anaconda3/lib/python3.9/site-packages (2.4.3)\n",
      "\u001b[33mWARNING: Running pip as the 'root' user can result in broken permissions and conflicting behaviour with the system package manager. It is recommended to use a virtual environment instead: https://pip.pypa.io/warnings/venv\u001b[0m\n",
      "Note: you may need to restart the kernel to use updated packages.\n"
     ]
    }
   ],
   "source": [
    "pip install scapy"
   ]
  },
  {
   "cell_type": "code",
   "execution_count": 2,
   "id": "7d4d17d8",
   "metadata": {},
   "outputs": [
    {
     "name": "stdout",
     "output_type": "stream",
     "text": [
      "\u001b[33mWARNING: The directory '/Users/semihbalki/Library/Caches/pip' or its parent directory is not owned or is not writable by the current user. The cache has been disabled. Check the permissions and owner of that directory. If executing pip with sudo, you should use sudo's -H flag.\u001b[0m\n",
      "Requirement already satisfied: bitstring in ./opt/anaconda3/lib/python3.9/site-packages (3.1.9)\n",
      "\u001b[33mWARNING: Running pip as the 'root' user can result in broken permissions and conflicting behaviour with the system package manager. It is recommended to use a virtual environment instead: https://pip.pypa.io/warnings/venv\u001b[0m\n",
      "Note: you may need to restart the kernel to use updated packages.\n"
     ]
    }
   ],
   "source": [
    "pip install bitstring"
   ]
  },
  {
   "cell_type": "code",
   "execution_count": 3,
   "id": "ba59a080",
   "metadata": {},
   "outputs": [
    {
     "name": "stdout",
     "output_type": "stream",
     "text": [
      "\u001b[33mWARNING: The directory '/Users/semihbalki/Library/Caches/pip' or its parent directory is not owned or is not writable by the current user. The cache has been disabled. Check the permissions and owner of that directory. If executing pip with sudo, you should use sudo's -H flag.\u001b[0m\n",
      "Requirement already satisfied: ipaddress in ./opt/anaconda3/lib/python3.9/site-packages (1.0.23)\n",
      "\u001b[33mWARNING: Running pip as the 'root' user can result in broken permissions and conflicting behaviour with the system package manager. It is recommended to use a virtual environment instead: https://pip.pypa.io/warnings/venv\u001b[0m\n",
      "Note: you may need to restart the kernel to use updated packages.\n"
     ]
    }
   ],
   "source": [
    "pip install ipaddress"
   ]
  },
  {
   "cell_type": "code",
   "execution_count": 1,
   "id": "d1a48282",
   "metadata": {},
   "outputs": [],
   "source": [
    "from scapy.all import *"
   ]
  },
  {
   "cell_type": "code",
   "execution_count": 2,
   "id": "e7897c6f",
   "metadata": {},
   "outputs": [],
   "source": [
    "capture = sniff(count=20)"
   ]
  },
  {
   "cell_type": "code",
   "execution_count": 3,
   "id": "3d38ab88",
   "metadata": {},
   "outputs": [
    {
     "name": "stdout",
     "output_type": "stream",
     "text": [
      "Ether / IP / UDP 192.168.1.7:vcom_tunnel > 224.0.0.7:vcom_tunnel / Raw\n",
      "Ether / IP / UDP 192.168.1.6:57400 > 192.168.1.255:commtact_http / Raw\n",
      "Ether / IP / UDP 192.168.1.7:vcom_tunnel > 224.0.0.7:vcom_tunnel / Raw\n",
      "Ether / IP / UDP 192.168.1.17:51804 > 239.255.255.250:ssdp / Raw\n",
      "Ether / IP / UDP 192.168.1.7:34103 > 192.168.1.255:15600 / Raw\n",
      "Ether / IP / UDP 192.168.1.17:51804 > 239.255.255.250:ssdp / Raw\n",
      "Ether / IP / UDP 192.168.1.7:vcom_tunnel > 224.0.0.7:vcom_tunnel / Raw\n",
      "Ether / IP / UDP 192.168.1.17:51804 > 239.255.255.250:ssdp / Raw\n",
      "Ether / IP / UDP 192.168.1.17:51804 > 239.255.255.250:ssdp / Raw\n",
      "Ether / IP / UDP 192.168.1.7:42546 > 239.255.255.250:15600 / Raw\n",
      "Ether / IP / UDP 192.168.1.7:vcom_tunnel > 224.0.0.7:vcom_tunnel / Raw\n",
      "Ether / IP / UDP 192.168.1.7:vcom_tunnel > 224.0.0.7:vcom_tunnel / Raw\n",
      "Ether / IP / UDP 192.168.1.7:50297 > 192.168.1.255:15600 / Raw\n",
      "Ether / IP / UDP 192.168.1.7:vcom_tunnel > 224.0.0.7:vcom_tunnel / Raw\n",
      "Ether / IP / UDP 192.168.1.6:42553 > 192.168.1.255:commtact_http / Raw\n",
      "Ether / IP / UDP 192.168.1.7:40006 > 239.255.255.250:15600 / Raw\n",
      "Ether / IP / UDP 192.168.1.7:vcom_tunnel > 224.0.0.7:vcom_tunnel / Raw\n",
      "Ether / IP / TCP 140.82.112.26:https > 192.168.1.3:55733 PA / Raw\n",
      "Ether / IP / TCP 192.168.1.3:55733 > 140.82.112.26:https A\n",
      "Ether / IP / TCP 192.168.1.3:55733 > 140.82.112.26:https PA / Raw\n"
     ]
    }
   ],
   "source": [
    "capture.summary()"
   ]
  },
  {
   "cell_type": "code",
   "execution_count": 4,
   "id": "4f3435cb",
   "metadata": {},
   "outputs": [],
   "source": [
    "import hashlib\n",
    "import math\n",
    "from bitstring import BitArray\n",
    "import ipaddress\n",
    "import random"
   ]
  },
  {
   "cell_type": "code",
   "execution_count": 5,
   "id": "2f091bab",
   "metadata": {},
   "outputs": [],
   "source": [
    "k = 8 # number of fragments"
   ]
  },
  {
   "cell_type": "code",
   "execution_count": 6,
   "id": "289b4d04",
   "metadata": {},
   "outputs": [],
   "source": [
    "R = '10.0.0.212'"
   ]
  },
  {
   "cell_type": "code",
   "execution_count": 7,
   "id": "eb0d65fd",
   "metadata": {},
   "outputs": [],
   "source": [
    "hashed_R = hashlib.sha256(R.encode()).hexdigest()"
   ]
  },
  {
   "cell_type": "code",
   "execution_count": 8,
   "id": "afe44976",
   "metadata": {},
   "outputs": [
    {
     "data": {
      "text/plain": [
       "'416ed35373cb9202811733de59c4eae351ad80cca66adfc97241d84c17d52902'"
      ]
     },
     "execution_count": 8,
     "metadata": {},
     "output_type": "execute_result"
    }
   ],
   "source": [
    "hashed_R"
   ]
  },
  {
   "cell_type": "code",
   "execution_count": 9,
   "id": "12f00273",
   "metadata": {},
   "outputs": [],
   "source": [
    "#Base'i 10 olarak ayarlayinca \n",
    "#\"ValueError invalid literal for int() with base 10\" hatasini veriyor\n",
    "#Bunun iki sebebi varmis;\n",
    "#The cases are,\n",
    "#Passing a string containing anything that is not a number, like letters and special characters.\n",
    "#Passing a string-type object that looks like a float type.\n",
    "#Bu sorunu cozmek icin base 16'yi kullaniyorum\n",
    "hashed_and_truncated_R = bin(int(hashed_R, 16) & (2**32 - 1))[2:]"
   ]
  },
  {
   "cell_type": "code",
   "execution_count": 10,
   "id": "c4f643ba",
   "metadata": {},
   "outputs": [],
   "source": [
    "#if len(hashed_and_truncated_R) < 32:\n",
    "#    bit = '0'\n",
    "#    for i in range(32 - len(hashed_and_truncated_R)):\n",
    "#        hashed_and_truncated_R = bit + hashed_and_truncated_R"
   ]
  },
  {
   "cell_type": "code",
   "execution_count": 11,
   "id": "361e74e7",
   "metadata": {},
   "outputs": [],
   "source": [
    "#len(hashed_and_truncated_R)"
   ]
  },
  {
   "cell_type": "code",
   "execution_count": 12,
   "id": "c2a8bfb4",
   "metadata": {},
   "outputs": [],
   "source": [
    "def listToString(s): \n",
    "    \n",
    "    # initialize an empty string\n",
    "    str1 = \"\" \n",
    "    \n",
    "    # traverse in the string  \n",
    "    for ele in s: \n",
    "        str1 += ele  \n",
    "    \n",
    "    # return string  \n",
    "    return str1 "
   ]
  },
  {
   "cell_type": "code",
   "execution_count": 13,
   "id": "bf3eedce",
   "metadata": {},
   "outputs": [],
   "source": [
    "def BitInterLeave(R, hash_of_R):\n",
    "    #original address on odd bits\n",
    "    #hash on even bits\n",
    "    if len(hash_of_R) < 32: #if hashed value of R is less than 32 bits\n",
    "        bit = '0'               #then add redundant bits to complete 32 bits\n",
    "        for i in range(32 - len(hash_of_R)):\n",
    "            hash_of_R = bit + hash_of_R\n",
    "    \n",
    "    #length of R and hash_of_R is 32    \n",
    "    arr = []\n",
    "    for i in range(64):\n",
    "        k = i % 32\n",
    "        if i % 2 == 0:\n",
    "            arr.append(hash_of_R[k])\n",
    "        else:\n",
    "            arr.append(R[k])\n",
    "    result = listToString(arr) #Convert list to string\n",
    "    return result"
   ]
  },
  {
   "cell_type": "code",
   "execution_count": 14,
   "id": "84de615f",
   "metadata": {},
   "outputs": [],
   "source": [
    "def fragments(bit_interleaved, k):\n",
    "    #k = 8\n",
    "    arr = []\n",
    "    for i in range(int(len(bit_interleaved)/k)):\n",
    "        arr.append(bit_interleaved[ i*k : (((i+1)*k)) ])\n",
    "    return arr"
   ]
  },
  {
   "cell_type": "code",
   "execution_count": 15,
   "id": "cb29fcff",
   "metadata": {},
   "outputs": [],
   "source": [
    "def offset_bits(num):\n",
    "    #Aim: Obey the standard of offset bits as math.log(k, 2)\n",
    "    #Input: bits as string\n",
    "    #Output: bits as string\n",
    "    if len(num) < math.log(k, 2):\n",
    "        b = '0'\n",
    "        for i in range(int(math.log(k, 2) - len(num))):\n",
    "            num = b + num\n",
    "    return num"
   ]
  },
  {
   "cell_type": "code",
   "execution_count": 16,
   "id": "99fb375b",
   "metadata": {},
   "outputs": [],
   "source": [
    "def distance_bits(num):\n",
    "    #Aim: Obey the standard of distance bits (to reach 5 bits)\n",
    "    #Input: string\n",
    "    #Output: string\n",
    "    if len(num) < 5: # 5'ten kucuk olursa dememin sebebi literaturde maximum hop count icin 32 deniliyor\n",
    "        b = '0'\n",
    "        for i in range(5 - len(num)):\n",
    "            num = b + num\n",
    "    return num"
   ]
  },
  {
   "cell_type": "code",
   "execution_count": 17,
   "id": "859627d8",
   "metadata": {},
   "outputs": [],
   "source": [
    "def fragment_bits(num):\n",
    "    # Reconstruction kisminda fragmentleri birlestirirken gerekebilir\n",
    "    if len(num) < 8:\n",
    "        b = '0'\n",
    "        for i in range(5 - len(num)):\n",
    "            num = b + num\n",
    "    return num"
   ]
  },
  {
   "cell_type": "code",
   "execution_count": 18,
   "id": "433b998d",
   "metadata": {},
   "outputs": [],
   "source": [
    "def id_16(num):\n",
    "    # Aim: Complete the num to 16 bits\n",
    "    # Input: bits as string\n",
    "    # Ouput:  bits as string\n",
    "    if len(num) < 16:\n",
    "        b = '0'\n",
    "        for i in range(16 - len(num)):\n",
    "            num = b + num\n",
    "    return num"
   ]
  },
  {
   "cell_type": "code",
   "execution_count": 19,
   "id": "b5ef561e",
   "metadata": {},
   "outputs": [
    {
     "name": "stdout",
     "output_type": "stream",
     "text": [
      "0000000000011000\n"
     ]
    }
   ],
   "source": [
    "a = '11000'\n",
    "print(id_16(a))"
   ]
  },
  {
   "cell_type": "code",
   "execution_count": 20,
   "id": "1587c5dd",
   "metadata": {},
   "outputs": [],
   "source": [
    "def ip_to_bits(ip_addr):\n",
    "    #Aim: convert ip address into bits\n",
    "    #Input: Ip address as string\n",
    "    #Output: bits as string\n",
    "    ip_split = ip_addr.split('.')\n",
    "    ip_binary = []\n",
    "    num = ''\n",
    "    for i in range(4):\n",
    "        num = bin(int(ip_split[i], 10))[2:]\n",
    "        if len(bin(int(ip_split[i], 10))[2:]) < 8: #32 bit'e tamamlamak icin ust sinir 8\n",
    "            b = '0'\n",
    "            for j in range(8 - len(bin(int(ip_split[i], 10))[2:])):\n",
    "                num = b + num\n",
    "        ip_binary.append(num)\n",
    "    s = listToString(ip_binary)\n",
    "    return s"
   ]
  },
  {
   "cell_type": "code",
   "execution_count": 21,
   "id": "03e7ea95",
   "metadata": {},
   "outputs": [
    {
     "name": "stdout",
     "output_type": "stream",
     "text": [
      "00001010000000000000000011010100\n"
     ]
    }
   ],
   "source": [
    "print(ip_to_bits(R))"
   ]
  },
  {
   "cell_type": "code",
   "execution_count": null,
   "id": "c02b3a19",
   "metadata": {},
   "outputs": [],
   "source": []
  },
  {
   "cell_type": "code",
   "execution_count": 22,
   "id": "a03370e2",
   "metadata": {},
   "outputs": [],
   "source": [
    "def offset_field(inp, k):\n",
    "    # input'un ilk math.log(k, 2) bit'i bulunup return edilir\n",
    "    #Input: bits as string\n",
    "    #Output: bits as string\n",
    "    #return inp[0: int(math.log(k, 2))]\n",
    "    return inp[16 - int(math.log(k, 2)):16]"
   ]
  },
  {
   "cell_type": "code",
   "execution_count": 23,
   "id": "d626a20e",
   "metadata": {},
   "outputs": [],
   "source": [
    "def distance_field(inp, k):\n",
    "    # input'un math.log(2,k) + 1 ile math.log(2, k) + 5 bitleri bulunup geri gonderilir\n",
    "    #Input: bits as string\n",
    "    #Output: bits as string\n",
    "    #return inp[int(math.log(k, 2)): (int(math.log(k, 2)) + 5)]\n",
    "    return inp[16 - int(math.log(k, 2)) - 5:16 - int(math.log(k, 2))]"
   ]
  },
  {
   "cell_type": "code",
   "execution_count": 24,
   "id": "76f54e9a",
   "metadata": {},
   "outputs": [],
   "source": [
    "def fragment_field(inp, k):\n",
    "    # input'un math.log(2, k) + 6 ile identification field'in uzunlugu arasindaki bitleri bulunup yollanir \n",
    "    #Input: bits as string\n",
    "    #Output: bits as string\n",
    "    #return inp[(int(math.log(k, 2)) + 5): 16]\n",
    "    return inp[0:k]"
   ]
  },
  {
   "cell_type": "code",
   "execution_count": 25,
   "id": "072996a2",
   "metadata": {},
   "outputs": [
    {
     "name": "stdout",
     "output_type": "stream",
     "text": [
      "1100000011110101\n"
     ]
    }
   ],
   "source": [
    "a = '1100000011110101'\n",
    "#print(offset_field(a, 8) + distance_field(a, 8) + fragment_field(a, 8))\n",
    "print(fragment_field(a, 8) + distance_field(a, 8) + offset_field(a, 8))"
   ]
  },
  {
   "cell_type": "code",
   "execution_count": 26,
   "id": "d30583bf",
   "metadata": {},
   "outputs": [],
   "source": [
    "def id_field(inp):\n",
    "    #Aim: id field bit uzunlugunu 16'ya tamamlamak\n",
    "    #Input: bits as string\n",
    "    #Output: bits as string\n",
    "    if len(inp) < 16:\n",
    "        b = '0'\n",
    "        num = inp\n",
    "        for i in range(16 - len(inp)):\n",
    "            num = b + num\n",
    "        return num\n",
    "    elif len(inp) == 16:\n",
    "        return inp"
   ]
  },
  {
   "cell_type": "code",
   "execution_count": 27,
   "id": "4d508cdc",
   "metadata": {},
   "outputs": [],
   "source": [
    "def XoR(x_1, x_2):\n",
    "    #Upper bound olarak 8 koymamin sebebi;\n",
    "    #offset -> math.log(k, 2) uzunlugunda, bizim su an kullandigimiz\n",
    "    #ornekte k = 8 oldugu icin offset uzunlugu 3 oluyor.\n",
    "    #distance uzunlugu 5 dedik (theoretical maximum hop number in network)\n",
    "    #geriye 16 - 3 - 5 = 8 kaliyor.\n",
    "    if len(x_1) < 8:\n",
    "        b = '0'\n",
    "        num = x_1\n",
    "        for i in range(16 - len(x_1)):\n",
    "            num = b + num\n",
    "        x_1 = num\n",
    "    if len(x_2) < 8:\n",
    "        b = '0'\n",
    "        num = x_2\n",
    "        for i in range(16 - len(x_2)):\n",
    "            num = b + num\n",
    "        x_2 = num \n",
    "    x_3 = \"\"\n",
    "    if len(x_1) == 8 and len(x_2) == 8:\n",
    "        for i in range(8):\n",
    "            if x_1[i] == x_2[i]:\n",
    "                x_3 = '0' + x_3\n",
    "            else:\n",
    "                x_3 = '1' + x_3\n",
    "    return x_3"
   ]
  },
  {
   "cell_type": "code",
   "execution_count": null,
   "id": "b0c4b024",
   "metadata": {},
   "outputs": [],
   "source": []
  },
  {
   "cell_type": "code",
   "execution_count": 28,
   "id": "fb38447c",
   "metadata": {},
   "outputs": [],
   "source": [
    "class Node:\n",
    "    def __init__(self, data):\n",
    "        self.left = None\n",
    "        self.right = None\n",
    "        self.data = data\n",
    "        \n",
    "    def insert(self, value, index): # insert data at (index+1)th place\n",
    "        index = index + 1\n",
    "        copy_self = self\n",
    "        for i in range(index):\n",
    "            if self.right.data is None:\n",
    "                self = self.right\n",
    "            else:\n",
    "                self = self.left\n",
    "        self.data = value\n",
    "        self = copy_self\n",
    "        \n",
    "    def preorder(node): #printing in preorder fashion. Code: https://letstacle.com/python-tree\n",
    "        if node:\n",
    "            print(node.data)\n",
    "            preorder(node.left)\n",
    "            preorder(node.right)"
   ]
  },
  {
   "cell_type": "code",
   "execution_count": 29,
   "id": "b170a4da",
   "metadata": {},
   "outputs": [],
   "source": [
    "def EvenBits(num_str):\n",
    "    # Input: Bits as string\n",
    "    # Output: Bits as string\n",
    "    result = ''\n",
    "    for i in range(len(num_str)):\n",
    "        if i % 2 == 0:\n",
    "            result = result + num_str[i]\n",
    "    return result"
   ]
  },
  {
   "cell_type": "code",
   "execution_count": 30,
   "id": "07c8627d",
   "metadata": {},
   "outputs": [],
   "source": [
    "def OddBits(num_str):\n",
    "    # Input: Bits as string\n",
    "    # Output: Bits as string\n",
    "    result = ''\n",
    "    for i in range(len(num_str)):\n",
    "        if i % 2 != 0:\n",
    "            result = result + num_str[i]\n",
    "    return result"
   ]
  },
  {
   "cell_type": "code",
   "execution_count": 31,
   "id": "685fb20f",
   "metadata": {},
   "outputs": [
    {
     "ename": "AttributeError",
     "evalue": "'NoneType' object has no attribute 'data'",
     "output_type": "error",
     "traceback": [
      "\u001b[0;31m---------------------------------------------------------------------------\u001b[0m",
      "\u001b[0;31mAttributeError\u001b[0m                            Traceback (most recent call last)",
      "Input \u001b[0;32mIn [31]\u001b[0m, in \u001b[0;36m<cell line: 2>\u001b[0;34m()\u001b[0m\n\u001b[1;32m      1\u001b[0m root \u001b[38;5;241m=\u001b[39m Node(\u001b[38;5;241m30\u001b[39m)\n\u001b[0;32m----> 2\u001b[0m \u001b[43mroot\u001b[49m\u001b[38;5;241;43m.\u001b[39;49m\u001b[43minsert\u001b[49m\u001b[43m(\u001b[49m\u001b[38;5;241;43m40\u001b[39;49m\u001b[43m,\u001b[49m\u001b[43m \u001b[49m\u001b[38;5;241;43m0\u001b[39;49m\u001b[43m)\u001b[49m\n\u001b[1;32m      3\u001b[0m \u001b[38;5;66;03m#copy = root\u001b[39;00m\n\u001b[1;32m      4\u001b[0m root\u001b[38;5;241m.\u001b[39mpreorder()\n",
      "Input \u001b[0;32mIn [28]\u001b[0m, in \u001b[0;36mNode.insert\u001b[0;34m(self, value, index)\u001b[0m\n\u001b[1;32m      9\u001b[0m copy_self \u001b[38;5;241m=\u001b[39m \u001b[38;5;28mself\u001b[39m\n\u001b[1;32m     10\u001b[0m \u001b[38;5;28;01mfor\u001b[39;00m i \u001b[38;5;129;01min\u001b[39;00m \u001b[38;5;28mrange\u001b[39m(index):\n\u001b[0;32m---> 11\u001b[0m     \u001b[38;5;28;01mif\u001b[39;00m \u001b[38;5;28;43mself\u001b[39;49m\u001b[38;5;241;43m.\u001b[39;49m\u001b[43mright\u001b[49m\u001b[38;5;241;43m.\u001b[39;49m\u001b[43mdata\u001b[49m \u001b[38;5;129;01mis\u001b[39;00m \u001b[38;5;28;01mNone\u001b[39;00m:\n\u001b[1;32m     12\u001b[0m         \u001b[38;5;28mself\u001b[39m \u001b[38;5;241m=\u001b[39m \u001b[38;5;28mself\u001b[39m\u001b[38;5;241m.\u001b[39mright\n\u001b[1;32m     13\u001b[0m     \u001b[38;5;28;01melse\u001b[39;00m:\n",
      "\u001b[0;31mAttributeError\u001b[0m: 'NoneType' object has no attribute 'data'"
     ]
    }
   ],
   "source": [
    "root = Node(30)\n",
    "root.insert(40, 0)\n",
    "#copy = root\n",
    "root.preorder()"
   ]
  },
  {
   "cell_type": "code",
   "execution_count": null,
   "id": "33102a86",
   "metadata": {},
   "outputs": [],
   "source": [
    "a = '0111'\n",
    "print(EvenBits(a))\n",
    "print(OddBits(a))"
   ]
  },
  {
   "cell_type": "code",
   "execution_count": null,
   "id": "ad2e692d",
   "metadata": {},
   "outputs": [],
   "source": [
    "root = Node([1, 2, 3, 4])\n",
    "root.right = Node([5, 6, 7])\n",
    "root.left = Node([8, 9, 10, 11])\n",
    "preorder(root)"
   ]
  },
  {
   "cell_type": "code",
   "execution_count": null,
   "id": "5609b0a2",
   "metadata": {},
   "outputs": [],
   "source": [
    "for i in range(1):\n",
    "    print(i)"
   ]
  },
  {
   "cell_type": "code",
   "execution_count": null,
   "id": "24ec195c",
   "metadata": {},
   "outputs": [],
   "source": [
    "def mapFirst(string):\n",
    "   return ''.join(bin(a.index(c))[2:].zfill(6) for c in string)"
   ]
  },
  {
   "cell_type": "code",
   "execution_count": null,
   "id": "79553a91",
   "metadata": {},
   "outputs": [],
   "source": [
    "a = ' 10 11'\n",
    "b = mapFirst(a)"
   ]
  },
  {
   "cell_type": "code",
   "execution_count": 32,
   "id": "77c268f3",
   "metadata": {},
   "outputs": [
    {
     "data": {
      "text/plain": [
       "'1000001'"
      ]
     },
     "execution_count": 32,
     "metadata": {},
     "output_type": "execute_result"
    }
   ],
   "source": [
    "bin(int('65', 10))[2:]"
   ]
  },
  {
   "cell_type": "code",
   "execution_count": 33,
   "id": "3428124b",
   "metadata": {},
   "outputs": [],
   "source": [
    "result = BitInterLeave(ip_to_bits(R), hashed_and_truncated_R)"
   ]
  },
  {
   "cell_type": "code",
   "execution_count": 34,
   "id": "1aea93f2",
   "metadata": {},
   "outputs": [
    {
     "data": {
      "text/plain": [
       "'0000001010000000001010000101011000000010100000000010100001010110'"
      ]
     },
     "execution_count": 34,
     "metadata": {},
     "output_type": "execute_result"
    }
   ],
   "source": [
    "result"
   ]
  },
  {
   "cell_type": "code",
   "execution_count": 35,
   "id": "5a50f98e",
   "metadata": {},
   "outputs": [],
   "source": [
    "f = fragments(result, 8)"
   ]
  },
  {
   "cell_type": "code",
   "execution_count": 36,
   "id": "5dc483ea",
   "metadata": {},
   "outputs": [
    {
     "data": {
      "text/plain": [
       "['00000010',\n",
       " '10000000',\n",
       " '00101000',\n",
       " '01010110',\n",
       " '00000010',\n",
       " '10000000',\n",
       " '00101000',\n",
       " '01010110']"
      ]
     },
     "execution_count": 36,
     "metadata": {},
     "output_type": "execute_result"
    }
   ],
   "source": [
    "f"
   ]
  },
  {
   "cell_type": "code",
   "execution_count": 37,
   "id": "779fadb1",
   "metadata": {},
   "outputs": [
    {
     "data": {
      "text/plain": [
       "'10111110101010010100100000010'"
      ]
     },
     "execution_count": 37,
     "metadata": {},
     "output_type": "execute_result"
    }
   ],
   "source": [
    "hashed_and_truncated_R"
   ]
  },
  {
   "cell_type": "code",
   "execution_count": 38,
   "id": "111d9028",
   "metadata": {},
   "outputs": [],
   "source": [
    "ip_split = R.split('.')"
   ]
  },
  {
   "cell_type": "code",
   "execution_count": 39,
   "id": "81cc239f",
   "metadata": {},
   "outputs": [
    {
     "data": {
      "text/plain": [
       "['10', '0', '0', '212']"
      ]
     },
     "execution_count": 39,
     "metadata": {},
     "output_type": "execute_result"
    }
   ],
   "source": [
    "ip_split"
   ]
  },
  {
   "cell_type": "code",
   "execution_count": 40,
   "id": "735bf933",
   "metadata": {},
   "outputs": [
    {
     "data": {
      "text/plain": [
       "'1010'"
      ]
     },
     "execution_count": 40,
     "metadata": {},
     "output_type": "execute_result"
    }
   ],
   "source": [
    "bin(int(ip_split[0], 10))[2:]"
   ]
  },
  {
   "cell_type": "code",
   "execution_count": 41,
   "id": "8c12275f",
   "metadata": {},
   "outputs": [
    {
     "data": {
      "text/plain": [
       "'1010000000000000000011010100'"
      ]
     },
     "execution_count": 41,
     "metadata": {},
     "output_type": "execute_result"
    }
   ],
   "source": [
    "bin(int(ipaddress.IPv4Address(R)))[2:]"
   ]
  },
  {
   "cell_type": "code",
   "execution_count": 42,
   "id": "bcdba33e",
   "metadata": {},
   "outputs": [
    {
     "data": {
      "text/plain": [
       "28"
      ]
     },
     "execution_count": 42,
     "metadata": {},
     "output_type": "execute_result"
    }
   ],
   "source": [
    "len(bin(int(ipaddress.IPv4Address(R)))[2:])"
   ]
  },
  {
   "cell_type": "code",
   "execution_count": 43,
   "id": "38539c65",
   "metadata": {},
   "outputs": [],
   "source": [
    "num = bin(int(ip_split[2], 10))[2:]\n",
    "if len(bin(int(ip_split[2], 10))[2:]) < 8: #32 bit'e tamamlamak icin ust sinir 8\n",
    "        b = '0'\n",
    "        for i in range(8 - len(bin(int(ip_split[2], 16))[2:])):\n",
    "            num = b + num"
   ]
  },
  {
   "cell_type": "code",
   "execution_count": 44,
   "id": "2aabbba9",
   "metadata": {},
   "outputs": [
    {
     "data": {
      "text/plain": [
       "'00000000'"
      ]
     },
     "execution_count": 44,
     "metadata": {},
     "output_type": "execute_result"
    }
   ],
   "source": [
    "num"
   ]
  },
  {
   "cell_type": "code",
   "execution_count": 45,
   "id": "9ab8d7c0",
   "metadata": {},
   "outputs": [
    {
     "data": {
      "text/plain": [
       "7"
      ]
     },
     "execution_count": 45,
     "metadata": {},
     "output_type": "execute_result"
    }
   ],
   "source": [
    "random.randint(0, 7)"
   ]
  },
  {
   "cell_type": "code",
   "execution_count": 46,
   "id": "6b61d9b6",
   "metadata": {},
   "outputs": [],
   "source": [
    "total_id = offset_bits(bin(3)[2:]) + distance_bits(bin(0)[2:]) + f[3]"
   ]
  },
  {
   "cell_type": "code",
   "execution_count": 47,
   "id": "2d39c9e5",
   "metadata": {},
   "outputs": [
    {
     "data": {
      "text/plain": [
       "'0110000001010110'"
      ]
     },
     "execution_count": 47,
     "metadata": {},
     "output_type": "execute_result"
    }
   ],
   "source": [
    "total_id"
   ]
  },
  {
   "cell_type": "code",
   "execution_count": 48,
   "id": "b4754eb5",
   "metadata": {},
   "outputs": [],
   "source": [
    "total_id_int = int(total_id, 2)"
   ]
  },
  {
   "cell_type": "code",
   "execution_count": 49,
   "id": "d0eaa323",
   "metadata": {},
   "outputs": [
    {
     "data": {
      "text/plain": [
       "24662"
      ]
     },
     "execution_count": 49,
     "metadata": {},
     "output_type": "execute_result"
    }
   ],
   "source": [
    "total_id_int"
   ]
  },
  {
   "cell_type": "code",
   "execution_count": 50,
   "id": "a5030981",
   "metadata": {},
   "outputs": [
    {
     "data": {
      "text/plain": [
       "'0b110000001010110'"
      ]
     },
     "execution_count": 50,
     "metadata": {},
     "output_type": "execute_result"
    }
   ],
   "source": [
    "bin(int(total_id, 2))"
   ]
  },
  {
   "cell_type": "code",
   "execution_count": 51,
   "id": "92fef0be",
   "metadata": {},
   "outputs": [],
   "source": [
    "r = offset_field(bin(total_id_int)[2:], 8) + distance_field(bin(total_id_int)[2:], 8) + fragment_field(bin(total_id_int)[2:], 8)\n",
    "N_RESULT = id_field(r)\n",
    "\n",
    "\n",
    "\n",
    "\n"
   ]
  },
  {
   "cell_type": "code",
   "execution_count": 52,
   "id": "4cb204a2",
   "metadata": {},
   "outputs": [
    {
     "name": "stdout",
     "output_type": "stream",
     "text": [
      "###[ Ethernet ]### \n",
      "  dst       = 01:00:5e:7f:ff:fa\n",
      "  src       = b2:4e:26:aa:c8:30\n",
      "  type      = IPv4\n",
      "###[ IP ]### \n",
      "     version   = 4\n",
      "     ihl       = 5\n",
      "     tos       = 0x0\n",
      "     len       = 203\n",
      "     id        = 63238\n",
      "     flags     = \n",
      "     frag      = 0\n",
      "     ttl       = 1\n",
      "     proto     = udp\n",
      "     chksum    = 0x1068\n",
      "     src       = 192.168.1.17\n",
      "     dst       = 239.255.255.250\n",
      "     \\options   \\\n",
      "###[ UDP ]### \n",
      "        sport     = 51804\n",
      "        dport     = ssdp\n",
      "        len       = 183\n",
      "        chksum    = 0x9edc\n",
      "###[ Raw ]### \n",
      "           load      = 'M-SEARCH * HTTP/1.1\\r\\nHOST: 239.255.255.250:1900\\r\\nMAN: \"ssdp:discover\"\\r\\nMX: 1\\r\\nST: urn:dial-multiscreen-org:service:dial:1\\r\\nUSER-AGENT: Google Chrome/102.0.5005.61 Mac OS X\\r\\n\\r\\n'\n",
      "\n"
     ]
    }
   ],
   "source": [
    "capture[3].show()"
   ]
  },
  {
   "cell_type": "code",
   "execution_count": 53,
   "id": "8510fb73",
   "metadata": {},
   "outputs": [
    {
     "name": "stdout",
     "output_type": "stream",
     "text": [
      "id:  15305  Source:  192.168.1.7  Destination:  224.0.0.7\n",
      "id:  0  Source:  192.168.1.6  Destination:  192.168.1.255\n",
      "id:  15518  Source:  192.168.1.7  Destination:  224.0.0.7\n",
      "id:  63238  Source:  192.168.1.17  Destination:  239.255.255.250\n",
      "id:  4009  Source:  192.168.1.7  Destination:  192.168.1.255\n",
      "id:  7683  Source:  192.168.1.17  Destination:  239.255.255.250\n",
      "id:  15655  Source:  192.168.1.7  Destination:  224.0.0.7\n",
      "id:  17398  Source:  192.168.1.17  Destination:  239.255.255.250\n",
      "id:  47193  Source:  192.168.1.17  Destination:  239.255.255.250\n",
      "id:  14733  Source:  192.168.1.7  Destination:  239.255.255.250\n",
      "id:  15688  Source:  192.168.1.7  Destination:  224.0.0.7\n",
      "id:  15810  Source:  192.168.1.7  Destination:  224.0.0.7\n",
      "id:  5072  Source:  192.168.1.7  Destination:  192.168.1.255\n",
      "id:  16179  Source:  192.168.1.7  Destination:  224.0.0.7\n",
      "id:  0  Source:  192.168.1.6  Destination:  192.168.1.255\n",
      "id:  15586  Source:  192.168.1.7  Destination:  239.255.255.250\n",
      "id:  16221  Source:  192.168.1.7  Destination:  224.0.0.7\n",
      "id:  23854  Source:  140.82.112.26  Destination:  192.168.1.3\n",
      "id:  0  Source:  192.168.1.3  Destination:  140.82.112.26\n",
      "id:  0  Source:  192.168.1.3  Destination:  140.82.112.26\n"
     ]
    }
   ],
   "source": [
    "for i in range(len(capture)):\n",
    "    if capture[i].haslayer(IP):\n",
    "        print(\"id: \", capture[i].id, \"\", \"Source: \", capture[i].getlayer(IP).src, \"\", \"Destination: \", capture[i].getlayer(IP).dst)\n",
    "        \n",
    "        \n",
    "        "
   ]
  },
  {
   "cell_type": "code",
   "execution_count": 54,
   "id": "20c0674c",
   "metadata": {},
   "outputs": [],
   "source": [
    "#Marking Procedure at router R:\n",
    "Result_BI = BitInterLeave(ip_to_bits(R), hashed_and_truncated_R)\n",
    "k = 8\n",
    "for i in range(len(capture)):\n",
    "    if capture[i].haslayer(IP):\n",
    "        x = random.random()\n",
    "        if x < 0.5: #p=0.5\n",
    "            o = random.randint(0, 7)\n",
    "            f = fragments(Result_BI, 8)\n",
    "            total = offset_bits(bin(o)[2:]) + distance_bits(bin(0)[2:]) + f[o]\n",
    "            #total = f[o] + distance_bits(bin(0)[2:]) + offset_bits(bin(o)[2:])\n",
    "            capture[i].id = int(total, 2)\n",
    "        else:\n",
    "            new_fragment = ''# alttaki if'in disinda da kullanabilmek icin\n",
    "                             # simdidenn tanimladim\n",
    "            #if len(bin(capture[i].id)[2:]) != 0:\n",
    "                #print(distance_field(bin(capture[i].id)[2:], k))\n",
    "            #print(int(distance_field(bin(capture[i].id)[2:], k), 2))\n",
    "            #print(BitArray(bin=distance_field(bin(capture[i].id)[2:], k)).int)\n",
    "            #value = BitArray(bin=distance_field(bin(capture[i].id)[2:], k)).int\n",
    "            #value = int(distance_field(bin(capture[i].id)[2:], k), 2)\n",
    "            \n",
    "            #if capture[i].id == 0 or int(distance_field(bin(capture[i].id)[2:], k), 2) == 0:\n",
    "            if int(distance_bits(distance_field(id_16(bin(capture[i].id)[2:]), k)), 2) == 0:\n",
    "\n",
    "                #print(f)\n",
    "                #print(int(offset_field(bin(capture[i].id)[2:], k), 16))\n",
    "                #print(offset_bits(bin(capture[i].id)[2:]))\n",
    "                frag_of_R = f[int(offset_field(id_16(bin(capture[i].id)[2:]), k), 2)]\n",
    "                new_fragment = XoR(frag_of_R, fragment_field(id_16(bin(capture[i].id)[2:]), k))\n",
    "                \n",
    "                new_distance = 1\n",
    "                new_distance_bits = bin(new_distance)[2:]\n",
    "                \n",
    "                #total = new_fragment + distance_bits(new_distance_bits) + offset_bits(offset_field(bin(capture[i].id)[2:], k))\n",
    "                total = offset_field(bin(capture[i].id)[2:], k) + new_distance_bits + new_fragment\n",
    "                #print(total)\n",
    "                total_id_int = int(total, 2)\n",
    "\n",
    "                capture[i].id = total_id_int\n",
    "            \n",
    "            else:\n",
    "                #print(int(distance_field(bin(capture[i].id)[2:], 8), 2))\n",
    "                current_distance = int(distance_bits(distance_field(id_16(bin(capture[i].id)[2:]), 8)), 2)\n",
    "                new_distance = current_distance + 1\n",
    "                new_distance_bits = bin(new_distance)[2:]\n",
    "                \n",
    "                #total = new_fragment + distance_bits(new_distance_bits) + offset_bits(offset_field(id_16(bin(capture[i].id)[2:]), k))\n",
    "                total = offset_field(bin(capture[i].id)[2:], k) + new_distance_bits + new_fragment\n",
    "                #print(total)\n",
    "                total_id_int = int(total, 2)\n",
    "\n",
    "                capture[i].id = total_id_int"
   ]
  },
  {
   "cell_type": "code",
   "execution_count": 55,
   "id": "6214bdb2",
   "metadata": {},
   "outputs": [
    {
     "name": "stdout",
     "output_type": "stream",
     "text": [
      "id:  58  Source:  192.168.1.7  Destination:  224.0.0.7\n",
      "id:  320  Source:  192.168.1.6  Destination:  192.168.1.255\n",
      "id:  20  Source:  192.168.1.7  Destination:  224.0.0.7\n",
      "id:  8320  Source:  192.168.1.17  Destination:  239.255.255.250\n",
      "id:  8320  Source:  192.168.1.7  Destination:  192.168.1.255\n",
      "id:  2  Source:  192.168.1.17  Destination:  239.255.255.250\n",
      "id:  49192  Source:  192.168.1.7  Destination:  224.0.0.7\n",
      "id:  2  Source:  192.168.1.17  Destination:  239.255.255.250\n",
      "id:  49192  Source:  192.168.1.17  Destination:  239.255.255.250\n",
      "id:  8320  Source:  192.168.1.7  Destination:  239.255.255.250\n",
      "id:  10  Source:  192.168.1.7  Destination:  224.0.0.7\n",
      "id:  57430  Source:  192.168.1.7  Destination:  224.0.0.7\n",
      "id:  27  Source:  192.168.1.7  Destination:  192.168.1.255\n",
      "id:  8320  Source:  192.168.1.7  Destination:  224.0.0.7\n",
      "id:  320  Source:  192.168.1.6  Destination:  192.168.1.255\n",
      "id:  57430  Source:  192.168.1.7  Destination:  239.255.255.250\n",
      "id:  41088  Source:  192.168.1.7  Destination:  224.0.0.7\n",
      "id:  2  Source:  140.82.112.26  Destination:  192.168.1.3\n",
      "id:  24662  Source:  192.168.1.3  Destination:  140.82.112.26\n",
      "id:  24662  Source:  192.168.1.3  Destination:  140.82.112.26\n"
     ]
    }
   ],
   "source": [
    "for i in range(len(capture)):\n",
    "    if capture[i].haslayer(IP):\n",
    "        print(\"id: \", capture[i].id, \"\", \"Source: \", capture[i].getlayer(IP).src, \"\", \"Destination: \", capture[i].getlayer(IP).dst)\n",
    "        \n",
    "        "
   ]
  },
  {
   "cell_type": "code",
   "execution_count": 56,
   "id": "126a1e95",
   "metadata": {},
   "outputs": [
    {
     "name": "stdout",
     "output_type": "stream",
     "text": [
      "['10001111', '001', '00000']\n",
      "['01010000', '010', '00000']\n"
     ]
    }
   ],
   "source": [
    "silly_array = []\n",
    "silly_array.append([get_if_addr(conf.iface), '-1', '-1'])\n",
    "silly_array.append(['10001111', '001', '00000'])\n",
    "silly_array.append(['01010000', '010', '00000'])\n",
    "silly_array.append(['11110000', '010', '00001'])\n",
    "for i in range(len(silly_array)):\n",
    "    if i != 0 and int(silly_array[i][2], 2) == 0:\n",
    "        print(silly_array[i])"
   ]
  },
  {
   "cell_type": "code",
   "execution_count": 57,
   "id": "f880e6ca",
   "metadata": {},
   "outputs": [
    {
     "name": "stdout",
     "output_type": "stream",
     "text": [
      "[-1, -1, -1, -1, -1, -1, -1, -1, -1, -1, -1, -1, -1, -1, -1, -1, -1, -1, -1, -1]\n",
      "[10, -1, 10, -1, 10, -1, 10, -1, 10, -1, 10, -1, 10, -1, 10, -1, 10, -1, 10, -1]\n"
     ]
    }
   ],
   "source": [
    "something_hold = []\n",
    "for i in range(20):\n",
    "    something_hold.append(-1)\n",
    "print(something_hold)\n",
    "for i in range(20):\n",
    "    if i % 2 == 0:\n",
    "        something_hold[i] = 10\n",
    "print(something_hold)"
   ]
  },
  {
   "cell_type": "code",
   "execution_count": 58,
   "id": "ba3722e9",
   "metadata": {},
   "outputs": [
    {
     "name": "stdout",
     "output_type": "stream",
     "text": [
      "[58, 0, 0]\n",
      "[160, 0, 0]\n",
      "[20, 0, 0]\n",
      "[130, 0, 0]\n",
      "[130, 0, 0]\n",
      "[2, 0, 0]\n",
      "[192, 0, 5]\n",
      "[2, 0, 0]\n",
      "[192, 0, 5]\n",
      "[130, 0, 0]\n",
      "[10, 0, 0]\n",
      "[224, 6, 10]\n",
      "[27, 0, 0]\n",
      "[130, 0, 0]\n",
      "[160, 0, 0]\n",
      "[224, 6, 10]\n",
      "[160, 0, 16]\n",
      "[2, 0, 0]\n",
      "[192, 2, 21]\n",
      "[192, 2, 21]\n",
      "\n",
      "[]\n",
      "\n",
      "[]\n",
      "\n",
      "[]\n",
      "\n",
      "[]\n",
      "\n",
      "[]\n",
      "\n",
      "[]\n",
      "\n",
      "[]\n",
      "\n",
      "[]\n",
      "\n",
      "[]\n",
      "\n",
      "[]\n",
      "\n",
      "[]\n",
      "\n",
      "[]\n",
      "\n",
      "[]\n",
      "\n",
      "[]\n",
      "\n",
      "[]\n",
      "\n",
      "[]\n",
      "\n",
      "[]\n",
      "\n",
      "[]\n",
      "\n"
     ]
    },
    {
     "data": {
      "text/plain": [
       "'\\nindexes = []\\nfor d in range(maxd):\\n    for j in range(len(FragTbl)):\\n        if FragTbl[j][2] == d:\\n            indexes.append(j)\\n    #print(indexes)\\n    for m in range(len(indexes)):\\n        # m\\'inci capture edilen paketin icerisindeki identification field\\'in distance\\n        # kismi su anki d yani distance degerini verdigi icin m\\'inci capture edilen\\n        # paket\\'e bakiyoruz\\n        #print(m)\\n        #print(bin(capture[indexes[m]].id)[2:])\\n        z = fragment_field(bin(capture[indexes[m]].id)[2:], k) + distance_bits(distance_field(bin(capture[indexes[m]].id)[2:], k)) + offset_bits(offset_field(bin(capture[indexes[m]].id)[2:], k))\\n        if d != 0:\\n            z = xor(z, last)\\n        if hashlib.sha256(EvenBits(z).encode()).hexdigest() == hashlib.sha256(OddBits(z).encode()).hexdigest():\\n            G.append([z, EvenBits(z), d])\\n            last = EvenBits(z)\\n\\n#print(G)\\nfor i in range(len(G)):\\n    if i != 0:\\n        if G[i][0] != \\'\\' and G[i][1] != \\'\\':\\n            print(int(G[i][0], 2), \"\", int(G[i][1], 2), \"\", G[i][2])\\n'"
      ]
     },
     "execution_count": 58,
     "metadata": {},
     "output_type": "execute_result"
    }
   ],
   "source": [
    "k = 8\n",
    "# Path reconstruction procedure at victim v\n",
    "FragTbl = [] # (frag, offset, distance)\n",
    "for i in range(len(capture)):\n",
    "    FragTbl.append([-1, -1, -1])\n",
    "\n",
    "#let G be a tree with root v, root (local address): '192.168.1.19'\n",
    "# (start (frag), end (offset), distance (index)), if end and distance of root is -1\n",
    "# index is distance\n",
    "#root_ip = [Node(get_if_addr(conf.iface)), -1, -1] \n",
    "G = [[get_if_addr(conf.iface), '-1', '-1']]\n",
    "maxd = 0\n",
    "last = get_if_addr(conf.iface)\n",
    "\n",
    "for i in range(len(capture)):\n",
    "    if capture[i].haslayer(IP):\n",
    "        FragTbl[i] = ([int(fragment_field(bin(capture[i].id)[2:], k), 2), int(offset_bits(offset_field(bin(capture[i].id)[2:], k)), 2), int(distance_bits(distance_field(bin(capture[i].id)[2:], k)), 2)])\n",
    "        \n",
    "        #FragTbl_frag.append(int(fragment_field(bin(capture[i].id)[2:], k), 2))\n",
    "        #FragTbl_offset.append(int(fragment_field(bin(capture[i].id)[2:], k), 2))\n",
    "        #FragTbl_distance.append(int(fragment_field(bin(capture[i].id)[2:], k), 2))\n",
    "        \n",
    "        if int(distance_bits(distance_field(bin(capture[i].id)[2:], k)), 2) > maxd:\n",
    "            maxd = int(distance_field(distance_bits(bin(capture[i].id)[2:]), k), 2)\n",
    "            \n",
    "for i in range(len(FragTbl)):\n",
    "    if FragTbl[i][0] != -1:\n",
    "        print(FragTbl[i])\n",
    "print(end = '\\n')\n",
    "        \n",
    "\n",
    "        \n",
    "ordered_combination_of_fragments = []\n",
    "temp = []\n",
    "for d in range(maxd):\n",
    "    for j in range(len(FragTbl)):\n",
    "        if FragTbl[j][2] == d:\n",
    "            temp.append(FragTbl[j])\n",
    "            for s in range(len(FragTbl)):\n",
    "                if s != j:\n",
    "                    if FragTbl[s][1] != FragTbl[j][1] and FragTbl[j] not in temp:\n",
    "                        temp.append(FragTbl[s])\n",
    "            for t in range(len(temp)):\n",
    "                for g in range(len(temp)):\n",
    "                    if temp[t][1] == temp[g][1]:\n",
    "                        #temp.remove(temp[t])\n",
    "                        del temp[g]\n",
    "            ordered_combination_of_fragments.append(temp)\n",
    "            \n",
    "\n",
    "for i in range(len(ordered_combination_of_fragments)):\n",
    "    print(ordered_combination_of_fragments[i], end = '\\n')\n",
    "    print(end = '\\n')\n",
    "\"\"\"\n",
    "indexes = []\n",
    "for d in range(maxd):\n",
    "    for j in range(len(FragTbl)):\n",
    "        if FragTbl[j][2] == d:\n",
    "            indexes.append(j)\n",
    "    #print(indexes)\n",
    "    for m in range(len(indexes)):\n",
    "        # m'inci capture edilen paketin icerisindeki identification field'in distance\n",
    "        # kismi su anki d yani distance degerini verdigi icin m'inci capture edilen\n",
    "        # paket'e bakiyoruz\n",
    "        #print(m)\n",
    "        #print(bin(capture[indexes[m]].id)[2:])\n",
    "        z = fragment_field(bin(capture[indexes[m]].id)[2:], k) + distance_bits(distance_field(bin(capture[indexes[m]].id)[2:], k)) + offset_bits(offset_field(bin(capture[indexes[m]].id)[2:], k))\n",
    "        if d != 0:\n",
    "            z = xor(z, last)\n",
    "        if hashlib.sha256(EvenBits(z).encode()).hexdigest() == hashlib.sha256(OddBits(z).encode()).hexdigest():\n",
    "            G.append([z, EvenBits(z), d])\n",
    "            last = EvenBits(z)\n",
    "\n",
    "#print(G)\n",
    "for i in range(len(G)):\n",
    "    if i != 0:\n",
    "        if G[i][0] != '' and G[i][1] != '':\n",
    "            print(int(G[i][0], 2), \"\", int(G[i][1], 2), \"\", G[i][2])\n",
    "\"\"\"\n",
    "        "
   ]
  },
  {
   "cell_type": "code",
   "execution_count": null,
   "id": "1d8771aa",
   "metadata": {},
   "outputs": [],
   "source": []
  },
  {
   "cell_type": "code",
   "execution_count": 59,
   "id": "2ef45669",
   "metadata": {},
   "outputs": [
    {
     "data": {
      "text/plain": [
       "'192.168.1.3'"
      ]
     },
     "execution_count": 59,
     "metadata": {},
     "output_type": "execute_result"
    }
   ],
   "source": [
    "get_if_addr(conf.iface)"
   ]
  },
  {
   "cell_type": "code",
   "execution_count": 60,
   "id": "381a97f2",
   "metadata": {},
   "outputs": [
    {
     "data": {
      "text/plain": [
       "'192.168.1.19, 10'"
      ]
     },
     "execution_count": 60,
     "metadata": {},
     "output_type": "execute_result"
    }
   ],
   "source": [
    "'192.168.1.19' + ', ' + '10'"
   ]
  },
  {
   "cell_type": "code",
   "execution_count": 61,
   "id": "b15a9e94",
   "metadata": {},
   "outputs": [
    {
     "name": "stdout",
     "output_type": "stream",
     "text": [
      "3\n"
     ]
    }
   ],
   "source": [
    "something = []\n",
    "something.append([1, 2, 3])\n",
    "something.append([4, 5, 6])\n",
    "print(something[0][2])"
   ]
  },
  {
   "cell_type": "code",
   "execution_count": null,
   "id": "62d016bd",
   "metadata": {},
   "outputs": [],
   "source": []
  },
  {
   "cell_type": "code",
   "execution_count": null,
   "id": "c517d80f",
   "metadata": {},
   "outputs": [],
   "source": []
  },
  {
   "cell_type": "code",
   "execution_count": null,
   "id": "3b96acf5",
   "metadata": {},
   "outputs": [],
   "source": []
  },
  {
   "cell_type": "code",
   "execution_count": null,
   "id": "faa13da8",
   "metadata": {},
   "outputs": [],
   "source": []
  },
  {
   "cell_type": "code",
   "execution_count": null,
   "id": "0c611260",
   "metadata": {},
   "outputs": [],
   "source": []
  }
 ],
 "metadata": {
  "kernelspec": {
   "display_name": "Python 3 (ipykernel)",
   "language": "python",
   "name": "python3"
  },
  "language_info": {
   "codemirror_mode": {
    "name": "ipython",
    "version": 3
   },
   "file_extension": ".py",
   "mimetype": "text/x-python",
   "name": "python",
   "nbconvert_exporter": "python",
   "pygments_lexer": "ipython3",
   "version": "3.9.12"
  }
 },
 "nbformat": 4,
 "nbformat_minor": 5
}
